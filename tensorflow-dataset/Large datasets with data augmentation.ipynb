{
 "cells": [
  {
   "cell_type": "code",
   "execution_count": 37,
   "metadata": {},
   "outputs": [],
   "source": [
    "import tensorflow as tf\n",
    "import numpy as np"
   ]
  },
  {
   "cell_type": "code",
   "execution_count": 105,
   "metadata": {},
   "outputs": [],
   "source": [
    "height = 5\n",
    "width = 5\n",
    "\n",
    "# Create random files containing raw matrix of shape 5x5\n",
    "for i in range(2):\n",
    "    for j in range(3):\n",
    "        # Create matrix with fake data\n",
    "        matrix = np.zeros((height,width)) + i + (j*10)\n",
    "        # Save matrix as raw float32 file\n",
    "        matrix.astype('float32').tofile('data/file_' + str(i) + '_' + str(j) + '.raw')"
   ]
  },
  {
   "cell_type": "code",
   "execution_count": 106,
   "metadata": {},
   "outputs": [
    {
     "data": {
      "text/plain": [
       "array([[ 4.,  4.,  4.,  4.,  4.],\n",
       "       [ 4.,  4.,  4.,  4.,  4.],\n",
       "       [ 4.,  4.,  4.,  4.,  4.],\n",
       "       [ 4.,  4.,  4.,  4.,  4.],\n",
       "       [ 4.,  4.,  4.,  4.,  4.]])"
      ]
     },
     "execution_count": 106,
     "metadata": {},
     "output_type": "execute_result"
    }
   ],
   "source": [
    "# Check one of the generated files\n",
    "matrix = np.fromfile('data/file_1_1.raw')\n",
    "matrix = matrix2.reshape((height,width))\n",
    "matrix"
   ]
  },
  {
   "cell_type": "code",
   "execution_count": 112,
   "metadata": {
    "collapsed": true
   },
   "outputs": [],
   "source": [
    "# Create parser\n",
    "# Args: filenames\n",
    "# Returns: tensor containing read and decoded element\n",
    "def _parse_data(filename0, filename1, label):\n",
    "    # Read and decode first file\n",
    "    matrix0 = tf.read_file(filename0)\n",
    "    matrix0 = tf.decode_raw(matrix0, out_type=tf.float32)\n",
    "    matrix0 = tf.reshape(matrix0, [height,width])\n",
    "    \n",
    "    # Read and decode second file\n",
    "    matrix1 = tf.read_file(filename1)\n",
    "    matrix1 = tf.decode_raw(matrix1, out_type=tf.float32)\n",
    "    matrix1 = tf.reshape(matrix1, [height,width])\n",
    "    \n",
    "    # Stack the two elements together\n",
    "    X = tf.stack([matrix0, matrix1])\n",
    "    \n",
    "    # Get label (you could implement more complex logic here if needed)\n",
    "    y = label\n",
    "    \n",
    "    return X, y"
   ]
  },
  {
   "cell_type": "code",
   "execution_count": 114,
   "metadata": {},
   "outputs": [
    {
     "name": "stdout",
     "output_type": "stream",
     "text": [
      "(array([[[ 0.,  0.,  0.,  0.,  0.],\n",
      "        [ 0.,  0.,  0.,  0.,  0.],\n",
      "        [ 0.,  0.,  0.,  0.,  0.],\n",
      "        [ 0.,  0.,  0.,  0.,  0.],\n",
      "        [ 0.,  0.,  0.,  0.,  0.]],\n",
      "\n",
      "       [[ 1.,  1.,  1.,  1.,  1.],\n",
      "        [ 1.,  1.,  1.,  1.,  1.],\n",
      "        [ 1.,  1.,  1.,  1.,  1.],\n",
      "        [ 1.,  1.,  1.,  1.,  1.],\n",
      "        [ 1.,  1.,  1.,  1.,  1.]]], dtype=float32), 15)\n",
      "(array([[[ 10.,  10.,  10.,  10.,  10.],\n",
      "        [ 10.,  10.,  10.,  10.,  10.],\n",
      "        [ 10.,  10.,  10.,  10.,  10.],\n",
      "        [ 10.,  10.,  10.,  10.,  10.],\n",
      "        [ 10.,  10.,  10.,  10.,  10.]],\n",
      "\n",
      "       [[ 11.,  11.,  11.,  11.,  11.],\n",
      "        [ 11.,  11.,  11.,  11.,  11.],\n",
      "        [ 11.,  11.,  11.,  11.,  11.],\n",
      "        [ 11.,  11.,  11.,  11.,  11.],\n",
      "        [ 11.,  11.,  11.,  11.,  11.]]], dtype=float32), 25)\n",
      "(array([[[ 20.,  20.,  20.,  20.,  20.],\n",
      "        [ 20.,  20.,  20.,  20.,  20.],\n",
      "        [ 20.,  20.,  20.,  20.,  20.],\n",
      "        [ 20.,  20.,  20.,  20.,  20.],\n",
      "        [ 20.,  20.,  20.,  20.,  20.]],\n",
      "\n",
      "       [[ 21.,  21.,  21.,  21.,  21.],\n",
      "        [ 21.,  21.,  21.,  21.,  21.],\n",
      "        [ 21.,  21.,  21.,  21.,  21.],\n",
      "        [ 21.,  21.,  21.,  21.,  21.],\n",
      "        [ 21.,  21.,  21.,  21.,  21.]]], dtype=float32), 10)\n",
      "End of dataset.\n"
     ]
    }
   ],
   "source": [
    "# Get the filenames lists\n",
    "filenames0 = ['data/file_0_0.raw', 'data/file_0_1.raw', 'data/file_0_2.raw']\n",
    "filenames1 = ['data/file_1_0.raw', 'data/file_1_1.raw', 'data/file_1_2.raw']\n",
    "\n",
    "# Create tensorflow constant containing the filenames\n",
    "tf_filenames0 = tf.constant(filenames0)\n",
    "tf_filenames1 = tf.constant(filenames1)\n",
    "\n",
    "# Create labels dataset\n",
    "labels = tf.constant([15, 25, 10])\n",
    "\n",
    "# Create datasets for each filenames list\n",
    "dataset = tf.data.Dataset.from_tensor_slices((tf_filenames0, tf_filenames1, labels))\n",
    "\n",
    "dataset = dataset.map(_parse_data)\n",
    "\n",
    "# create TensorFlow Iterator object\n",
    "iterator = dataset.make_one_shot_iterator()\n",
    "next_element = iterator.get_next()\n",
    "\n",
    "with tf.Session() as sess:\n",
    "\n",
    "    # initialize the iterator on the training data\n",
    "    sess.run(init_op)\n",
    "\n",
    "    # get each element of the training dataset until the end is reached\n",
    "    while True:\n",
    "        try:\n",
    "            elem = sess.run(next_element)\n",
    "            print(elem)\n",
    "        except tf.errors.OutOfRangeError:\n",
    "            print(\"End of dataset.\")\n",
    "            break\n"
   ]
  },
  {
   "cell_type": "code",
   "execution_count": null,
   "metadata": {
    "collapsed": true
   },
   "outputs": [],
   "source": []
  }
 ],
 "metadata": {
  "kernelspec": {
   "display_name": "Python 3",
   "language": "python",
   "name": "python3"
  },
  "language_info": {
   "codemirror_mode": {
    "name": "ipython",
    "version": 3
   },
   "file_extension": ".py",
   "mimetype": "text/x-python",
   "name": "python",
   "nbconvert_exporter": "python",
   "pygments_lexer": "ipython3",
   "version": "3.6.1"
  }
 },
 "nbformat": 4,
 "nbformat_minor": 2
}
